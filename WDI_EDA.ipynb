{
 "cells": [
  {
   "cell_type": "code",
   "execution_count": 2,
   "metadata": {},
   "outputs": [],
   "source": [
    "#author: Ameya Naik\n",
    "\n",
    "import numpy as np\n",
    "import random\n",
    "import matplotlib.pyplot as plt\n",
    "import pandas as pd "
   ]
  },
  {
   "cell_type": "code",
   "execution_count": 3,
   "metadata": {},
   "outputs": [
    {
     "name": "stdout",
     "output_type": "stream",
     "text": [
      "<class 'pandas.core.frame.DataFrame'>\n",
      "RangeIndex: 5656458 entries, 0 to 5656457\n",
      "Data columns (total 6 columns):\n",
      "CountryName      object\n",
      "CountryCode      object\n",
      "IndicatorName    object\n",
      "IndicatorCode    object\n",
      "Year             int64\n",
      "Value            float64\n",
      "dtypes: float64(1), int64(1), object(4)\n",
      "memory usage: 258.9+ MB\n"
     ]
    },
    {
     "data": {
      "text/plain": [
       "(5656458, 6)"
      ]
     },
     "execution_count": 3,
     "metadata": {},
     "output_type": "execute_result"
    }
   ],
   "source": [
    "indicator_df  = pd.read_csv(\"D:\\MOOC_Courses\\Youtube_Projects\\WorldDevelopmentIndicator\\Archive\\Indicators.csv\");\n",
    "indicator_df.info();\n",
    "indicator_df.head();\n",
    "indicator_df.shape"
   ]
  },
  {
   "cell_type": "code",
   "execution_count": 4,
   "metadata": {},
   "outputs": [
    {
     "name": "stdout",
     "output_type": "stream",
     "text": [
      "1960 - 2015\n"
     ]
    }
   ],
   "source": [
    "indicator_df.isnull().any()\n",
    "\n",
    "\n",
    "countries = indicator_df['CountryName'].unique().tolist();\n",
    "len(countries)\n",
    "indicators = indicator_df['IndicatorName'].unique().tolist();\n",
    "len(indicators);\n",
    "years = indicator_df['Year'].unique().tolist();\n",
    "len(years);\n",
    "print(min(years), '-',max(years))"
   ]
  },
  {
   "cell_type": "code",
   "execution_count": 5,
   "metadata": {},
   "outputs": [
    {
     "name": "stdout",
     "output_type": "stream",
     "text": [
      "                                         CountryName CountryCode  \\\n",
      "CountryCode                                                        \n",
      "ARB                                       Arab World         ARB   \n",
      "CSS                           Caribbean small states         CSS   \n",
      "CEB                   Central Europe and the Baltics         CEB   \n",
      "EAS          East Asia & Pacific (all income levels)         EAS   \n",
      "EAP            East Asia & Pacific (developing only)         EAP   \n",
      "\n",
      "                  IndicatorName   IndicatorCode  Year         Value  \n",
      "CountryCode                                                          \n",
      "ARB          CO2 emissions (kt)  EN.ATM.CO2E.KT  1960  5.956399e+04  \n",
      "CSS          CO2 emissions (kt)  EN.ATM.CO2E.KT  1960  5.878201e+03  \n",
      "CEB          CO2 emissions (kt)  EN.ATM.CO2E.KT  1960  4.674500e+05  \n",
      "EAS          CO2 emissions (kt)  EN.ATM.CO2E.KT  1960  1.211359e+06  \n",
      "EAP          CO2 emissions (kt)  EN.ATM.CO2E.KT  1960  8.541146e+05  \n"
     ]
    }
   ],
   "source": [
    "indicator_df.columns;\n",
    "\n",
    "indicator_df.set_index('CountryCode',inplace = True, drop = False);\n",
    "\n",
    "indicator_df.drop(['HIC', 'OEC', 'OED', 'NOC', 'CEB', 'EAP', 'EMU', 'ECS', 'ECA', 'EUU', 'LCN', 'FCS', 'LAC', 'LMY', 'MEA', 'MNA', 'MIC', 'NAC', 'SSF', 'UMC', 'SSA', 'LMC', 'EAS', 'HPC', 'LDC', 'LIC'], axis=0);\n",
    "indicator_df.reset_index(drop=True)\n",
    "co2_emission =indicator_df[indicator_df['IndicatorCode'].str.contains('EN.ATM.CO2E.KT')];\n",
    "print(co2_emission.head())"
   ]
  },
  {
   "cell_type": "code",
   "execution_count": 6,
   "metadata": {},
   "outputs": [
    {
     "name": "stdout",
     "output_type": "stream",
     "text": [
      "                                           CountryName CountryCode  \\\n",
      "CountryCode                                                          \n",
      "CSS                             Caribbean small states         CSS   \n",
      "EAS            East Asia & Pacific (all income levels)         EAS   \n",
      "EAP              East Asia & Pacific (developing only)         EAP   \n",
      "EMU                                          Euro area         EMU   \n",
      "ECS          Europe & Central Asia (all income levels)         ECS   \n",
      "\n",
      "                            IndicatorName   IndicatorCode  Year       Value  \n",
      "CountryCode                                                                  \n",
      "CSS          GDP per capita (current US$)  NY.GDP.PCAP.CD  1960  457.464712  \n",
      "EAS          GDP per capita (current US$)  NY.GDP.PCAP.CD  1960  146.814138  \n",
      "EAP          GDP per capita (current US$)  NY.GDP.PCAP.CD  1960   89.319639  \n",
      "EMU          GDP per capita (current US$)  NY.GDP.PCAP.CD  1960  924.571393  \n",
      "ECS          GDP per capita (current US$)  NY.GDP.PCAP.CD  1960  648.223441  \n"
     ]
    }
   ],
   "source": [
    "gdp_percapita =indicator_df[indicator_df['IndicatorCode'].str.contains('NY.GDP.PCAP.CD')];\n",
    "print(gdp_percapita.head());\n",
    "\n",
    "\n",
    "# get the years\n",
    "years = co2_emission['Year'].values\n",
    "# get the values\n",
    "co2 = co2_emission['Value'].values\n"
   ]
  },
  {
   "cell_type": "code",
   "execution_count": 7,
   "metadata": {},
   "outputs": [
    {
     "data": {
      "text/plain": [
       "Text(0, 0.5, 'CO2Emssion per kIlo Tons ')"
      ]
     },
     "execution_count": 7,
     "metadata": {},
     "output_type": "execute_result"
    },
    {
     "data": {
      "image/png": "[encoded data removed]",
      "text/plain": [
       "<Figure size 432x288 with 1 Axes>"
      ]
     },
     "metadata": {
      "needs_background": "light"
     },
     "output_type": "display_data"
    }
   ],
   "source": [
    "# create\n",
    "plt.bar(years,co2)\n",
    "plt.title(\"CO2 emission from 1960-2014\")\n",
    "plt.xlabel(\"Year\")\n",
    "plt.ylabel(\"CO2Emssion per kIlo Tons \")"
   ]
  },
  {
   "cell_type": "code",
   "execution_count": 8,
   "metadata": {},
   "outputs": [],
   "source": [
    "#get the years\n",
    "years = gdp_percapita['Year'].values\n",
    "# get the values\n",
    "co2 = gdp_percapita['Value'].values"
   ]
  },
  {
   "cell_type": "code",
   "execution_count": 9,
   "metadata": {},
   "outputs": [
    {
     "data": {
      "text/plain": [
       "Text(0, 0.5, 'GDP per capita ')"
      ]
     },
     "execution_count": 9,
     "metadata": {},
     "output_type": "execute_result"
    },
    {
     "data": {
      "image/png": "[encoded data removed]",
      "text/plain": [
       "<Figure size 432x288 with 1 Axes>"
      ]
     },
     "metadata": {
      "needs_background": "light"
     },
     "output_type": "display_data"
    }
   ],
   "source": [
    "#create\n",
    "plt.bar(years,co2)\n",
    "plt.title(\"GDP per capita\")\n",
    "plt.xlabel(\"Year\")\n",
    "plt.ylabel(\"GDP per capita \")\n"
   ]
  },
  {
   "cell_type": "code",
   "execution_count": 10,
   "metadata": {},
   "outputs": [],
   "source": [
    "#Filter for Belgium \n",
    "co2_emission_BEL = co2_emission[co2_emission['CountryCode'].str.contains('BEL')];\n",
    "years = co2_emission_BEL['Year'].values\n",
    "co2_BEL = co2_emission_BEL['Value'].values\n"
   ]
  },
  {
   "cell_type": "code",
   "execution_count": 11,
   "metadata": {},
   "outputs": [],
   "source": [
    "#Filter for USA \n",
    "co2_emission_USA = co2_emission[co2_emission['CountryCode'].str.contains('USA')];\n",
    "co2_UAS = co2_emission_USA['Value'].values\n",
    "years = co2_emission_USA['Year'].values\n"
   ]
  },
  {
   "cell_type": "code",
   "execution_count": 12,
   "metadata": {},
   "outputs": [],
   "source": [
    "#Filter for INDIA \n",
    "co2_emission_IND = co2_emission[co2_emission['CountryCode'].str.contains('IND')];\n",
    "years = co2_emission_IND['Year'].values\n",
    "co2_IND = co2_emission_IND['Value'].values"
   ]
  },
  {
   "cell_type": "code",
   "execution_count": 13,
   "metadata": {},
   "outputs": [],
   "source": [
    "#Filter for Germany \n",
    "co2_emission_DEU = co2_emission[co2_emission['CountryCode'].str.contains('DEU')];\n",
    "years = co2_emission_DEU['Year'].values\n",
    "co2_DEU = co2_emission_DEU['Value'].values\n"
   ]
  },
  {
   "cell_type": "code",
   "execution_count": 14,
   "metadata": {},
   "outputs": [
    {
     "ename": "ValueError",
     "evalue": "x and y must have same first dimension, but have shapes (21,) and (52,)",
     "output_type": "error",
     "traceback": [
      "\u001b[1;31m---------------------------------------------------------------------------\u001b[0m",
      "\u001b[1;31mValueError\u001b[0m                                Traceback (most recent call last)",
      "\u001b[1;32m<ipython-input-14-55abb8d56c74>\u001b[0m in \u001b[0;36m<module>\u001b[1;34m\u001b[0m\n\u001b[1;32m----> 1\u001b[1;33m \u001b[0mplt\u001b[0m\u001b[1;33m.\u001b[0m\u001b[0mplot\u001b[0m\u001b[1;33m(\u001b[0m\u001b[0myears\u001b[0m\u001b[1;33m,\u001b[0m\u001b[0mco2_UAS\u001b[0m\u001b[1;33m,\u001b[0m \u001b[0mlabel\u001b[0m \u001b[1;33m=\u001b[0m \u001b[1;34m\"USA\"\u001b[0m\u001b[1;33m)\u001b[0m\u001b[1;33m\u001b[0m\u001b[1;33m\u001b[0m\u001b[0m\n\u001b[0m\u001b[0;32m      2\u001b[0m \u001b[1;33m\u001b[0m\u001b[0m\n\u001b[0;32m      3\u001b[0m \u001b[0mplt\u001b[0m\u001b[1;33m.\u001b[0m\u001b[0mplot\u001b[0m\u001b[1;33m(\u001b[0m\u001b[0myears\u001b[0m\u001b[1;33m,\u001b[0m\u001b[0mco2_DEU\u001b[0m\u001b[1;33m,\u001b[0m \u001b[0mlabel\u001b[0m \u001b[1;33m=\u001b[0m \u001b[1;34m\"DEU\"\u001b[0m \u001b[1;33m)\u001b[0m\u001b[1;33m\u001b[0m\u001b[1;33m\u001b[0m\u001b[0m\n\u001b[0;32m      4\u001b[0m \u001b[0mplt\u001b[0m\u001b[1;33m.\u001b[0m\u001b[0mplot\u001b[0m\u001b[1;33m(\u001b[0m\u001b[0myears\u001b[0m\u001b[1;33m,\u001b[0m\u001b[0mco2_IND\u001b[0m\u001b[1;33m,\u001b[0m \u001b[0mlabel\u001b[0m \u001b[1;33m=\u001b[0m \u001b[1;34m\"India\"\u001b[0m\u001b[1;33m)\u001b[0m\u001b[1;33m\u001b[0m\u001b[1;33m\u001b[0m\u001b[0m\n\u001b[0;32m      5\u001b[0m \u001b[0mplt\u001b[0m\u001b[1;33m.\u001b[0m\u001b[0mxlabel\u001b[0m\u001b[1;33m(\u001b[0m\u001b[1;34m'Years'\u001b[0m\u001b[1;33m)\u001b[0m\u001b[1;33m\u001b[0m\u001b[1;33m\u001b[0m\u001b[0m\n",
      "\u001b[1;32m~\\Anaconda3\\lib\\site-packages\\matplotlib\\pyplot.py\u001b[0m in \u001b[0;36mplot\u001b[1;34m(scalex, scaley, data, *args, **kwargs)\u001b[0m\n\u001b[0;32m   2809\u001b[0m     return gca().plot(\n\u001b[0;32m   2810\u001b[0m         *args, scalex=scalex, scaley=scaley, **({\"data\": data} if data\n\u001b[1;32m-> 2811\u001b[1;33m         is not None else {}), **kwargs)\n\u001b[0m\u001b[0;32m   2812\u001b[0m \u001b[1;33m\u001b[0m\u001b[0m\n\u001b[0;32m   2813\u001b[0m \u001b[1;33m\u001b[0m\u001b[0m\n",
      "\u001b[1;32m~\\Anaconda3\\lib\\site-packages\\matplotlib\\__init__.py\u001b[0m in \u001b[0;36minner\u001b[1;34m(ax, data, *args, **kwargs)\u001b[0m\n\u001b[0;32m   1808\u001b[0m                         \u001b[1;34m\"the Matplotlib list!)\"\u001b[0m \u001b[1;33m%\u001b[0m \u001b[1;33m(\u001b[0m\u001b[0mlabel_namer\u001b[0m\u001b[1;33m,\u001b[0m \u001b[0mfunc\u001b[0m\u001b[1;33m.\u001b[0m\u001b[0m__name__\u001b[0m\u001b[1;33m)\u001b[0m\u001b[1;33m,\u001b[0m\u001b[1;33m\u001b[0m\u001b[1;33m\u001b[0m\u001b[0m\n\u001b[0;32m   1809\u001b[0m                         RuntimeWarning, stacklevel=2)\n\u001b[1;32m-> 1810\u001b[1;33m             \u001b[1;32mreturn\u001b[0m \u001b[0mfunc\u001b[0m\u001b[1;33m(\u001b[0m\u001b[0max\u001b[0m\u001b[1;33m,\u001b[0m \u001b[1;33m*\u001b[0m\u001b[0margs\u001b[0m\u001b[1;33m,\u001b[0m \u001b[1;33m**\u001b[0m\u001b[0mkwargs\u001b[0m\u001b[1;33m)\u001b[0m\u001b[1;33m\u001b[0m\u001b[1;33m\u001b[0m\u001b[0m\n\u001b[0m\u001b[0;32m   1811\u001b[0m \u001b[1;33m\u001b[0m\u001b[0m\n\u001b[0;32m   1812\u001b[0m         inner.__doc__ = _add_data_doc(inner.__doc__,\n",
      "\u001b[1;32m~\\Anaconda3\\lib\\site-packages\\matplotlib\\axes\\_axes.py\u001b[0m in \u001b[0;36mplot\u001b[1;34m(self, scalex, scaley, *args, **kwargs)\u001b[0m\n\u001b[0;32m   1609\u001b[0m         \u001b[0mkwargs\u001b[0m \u001b[1;33m=\u001b[0m \u001b[0mcbook\u001b[0m\u001b[1;33m.\u001b[0m\u001b[0mnormalize_kwargs\u001b[0m\u001b[1;33m(\u001b[0m\u001b[0mkwargs\u001b[0m\u001b[1;33m,\u001b[0m \u001b[0mmlines\u001b[0m\u001b[1;33m.\u001b[0m\u001b[0mLine2D\u001b[0m\u001b[1;33m.\u001b[0m\u001b[0m_alias_map\u001b[0m\u001b[1;33m)\u001b[0m\u001b[1;33m\u001b[0m\u001b[1;33m\u001b[0m\u001b[0m\n\u001b[0;32m   1610\u001b[0m \u001b[1;33m\u001b[0m\u001b[0m\n\u001b[1;32m-> 1611\u001b[1;33m         \u001b[1;32mfor\u001b[0m \u001b[0mline\u001b[0m \u001b[1;32min\u001b[0m \u001b[0mself\u001b[0m\u001b[1;33m.\u001b[0m\u001b[0m_get_lines\u001b[0m\u001b[1;33m(\u001b[0m\u001b[1;33m*\u001b[0m\u001b[0margs\u001b[0m\u001b[1;33m,\u001b[0m \u001b[1;33m**\u001b[0m\u001b[0mkwargs\u001b[0m\u001b[1;33m)\u001b[0m\u001b[1;33m:\u001b[0m\u001b[1;33m\u001b[0m\u001b[1;33m\u001b[0m\u001b[0m\n\u001b[0m\u001b[0;32m   1612\u001b[0m             \u001b[0mself\u001b[0m\u001b[1;33m.\u001b[0m\u001b[0madd_line\u001b[0m\u001b[1;33m(\u001b[0m\u001b[0mline\u001b[0m\u001b[1;33m)\u001b[0m\u001b[1;33m\u001b[0m\u001b[1;33m\u001b[0m\u001b[0m\n\u001b[0;32m   1613\u001b[0m             \u001b[0mlines\u001b[0m\u001b[1;33m.\u001b[0m\u001b[0mappend\u001b[0m\u001b[1;33m(\u001b[0m\u001b[0mline\u001b[0m\u001b[1;33m)\u001b[0m\u001b[1;33m\u001b[0m\u001b[1;33m\u001b[0m\u001b[0m\n",
      "\u001b[1;32m~\\Anaconda3\\lib\\site-packages\\matplotlib\\axes\\_base.py\u001b[0m in \u001b[0;36m_grab_next_args\u001b[1;34m(self, *args, **kwargs)\u001b[0m\n\u001b[0;32m    391\u001b[0m                 \u001b[0mthis\u001b[0m \u001b[1;33m+=\u001b[0m \u001b[0margs\u001b[0m\u001b[1;33m[\u001b[0m\u001b[1;36m0\u001b[0m\u001b[1;33m]\u001b[0m\u001b[1;33m,\u001b[0m\u001b[1;33m\u001b[0m\u001b[1;33m\u001b[0m\u001b[0m\n\u001b[0;32m    392\u001b[0m                 \u001b[0margs\u001b[0m \u001b[1;33m=\u001b[0m \u001b[0margs\u001b[0m\u001b[1;33m[\u001b[0m\u001b[1;36m1\u001b[0m\u001b[1;33m:\u001b[0m\u001b[1;33m]\u001b[0m\u001b[1;33m\u001b[0m\u001b[1;33m\u001b[0m\u001b[0m\n\u001b[1;32m--> 393\u001b[1;33m             \u001b[1;32myield\u001b[0m \u001b[1;32mfrom\u001b[0m \u001b[0mself\u001b[0m\u001b[1;33m.\u001b[0m\u001b[0m_plot_args\u001b[0m\u001b[1;33m(\u001b[0m\u001b[0mthis\u001b[0m\u001b[1;33m,\u001b[0m \u001b[0mkwargs\u001b[0m\u001b[1;33m)\u001b[0m\u001b[1;33m\u001b[0m\u001b[1;33m\u001b[0m\u001b[0m\n\u001b[0m\u001b[0;32m    394\u001b[0m \u001b[1;33m\u001b[0m\u001b[0m\n\u001b[0;32m    395\u001b[0m \u001b[1;33m\u001b[0m\u001b[0m\n",
      "\u001b[1;32m~\\Anaconda3\\lib\\site-packages\\matplotlib\\axes\\_base.py\u001b[0m in \u001b[0;36m_plot_args\u001b[1;34m(self, tup, kwargs)\u001b[0m\n\u001b[0;32m    368\u001b[0m             \u001b[0mx\u001b[0m\u001b[1;33m,\u001b[0m \u001b[0my\u001b[0m \u001b[1;33m=\u001b[0m \u001b[0mindex_of\u001b[0m\u001b[1;33m(\u001b[0m\u001b[0mtup\u001b[0m\u001b[1;33m[\u001b[0m\u001b[1;33m-\u001b[0m\u001b[1;36m1\u001b[0m\u001b[1;33m]\u001b[0m\u001b[1;33m)\u001b[0m\u001b[1;33m\u001b[0m\u001b[1;33m\u001b[0m\u001b[0m\n\u001b[0;32m    369\u001b[0m \u001b[1;33m\u001b[0m\u001b[0m\n\u001b[1;32m--> 370\u001b[1;33m         \u001b[0mx\u001b[0m\u001b[1;33m,\u001b[0m \u001b[0my\u001b[0m \u001b[1;33m=\u001b[0m \u001b[0mself\u001b[0m\u001b[1;33m.\u001b[0m\u001b[0m_xy_from_xy\u001b[0m\u001b[1;33m(\u001b[0m\u001b[0mx\u001b[0m\u001b[1;33m,\u001b[0m \u001b[0my\u001b[0m\u001b[1;33m)\u001b[0m\u001b[1;33m\u001b[0m\u001b[1;33m\u001b[0m\u001b[0m\n\u001b[0m\u001b[0;32m    371\u001b[0m \u001b[1;33m\u001b[0m\u001b[0m\n\u001b[0;32m    372\u001b[0m         \u001b[1;32mif\u001b[0m \u001b[0mself\u001b[0m\u001b[1;33m.\u001b[0m\u001b[0mcommand\u001b[0m \u001b[1;33m==\u001b[0m \u001b[1;34m'plot'\u001b[0m\u001b[1;33m:\u001b[0m\u001b[1;33m\u001b[0m\u001b[1;33m\u001b[0m\u001b[0m\n",
      "\u001b[1;32m~\\Anaconda3\\lib\\site-packages\\matplotlib\\axes\\_base.py\u001b[0m in \u001b[0;36m_xy_from_xy\u001b[1;34m(self, x, y)\u001b[0m\n\u001b[0;32m    229\u001b[0m         \u001b[1;32mif\u001b[0m \u001b[0mx\u001b[0m\u001b[1;33m.\u001b[0m\u001b[0mshape\u001b[0m\u001b[1;33m[\u001b[0m\u001b[1;36m0\u001b[0m\u001b[1;33m]\u001b[0m \u001b[1;33m!=\u001b[0m \u001b[0my\u001b[0m\u001b[1;33m.\u001b[0m\u001b[0mshape\u001b[0m\u001b[1;33m[\u001b[0m\u001b[1;36m0\u001b[0m\u001b[1;33m]\u001b[0m\u001b[1;33m:\u001b[0m\u001b[1;33m\u001b[0m\u001b[1;33m\u001b[0m\u001b[0m\n\u001b[0;32m    230\u001b[0m             raise ValueError(\"x and y must have same first dimension, but \"\n\u001b[1;32m--> 231\u001b[1;33m                              \"have shapes {} and {}\".format(x.shape, y.shape))\n\u001b[0m\u001b[0;32m    232\u001b[0m         \u001b[1;32mif\u001b[0m \u001b[0mx\u001b[0m\u001b[1;33m.\u001b[0m\u001b[0mndim\u001b[0m \u001b[1;33m>\u001b[0m \u001b[1;36m2\u001b[0m \u001b[1;32mor\u001b[0m \u001b[0my\u001b[0m\u001b[1;33m.\u001b[0m\u001b[0mndim\u001b[0m \u001b[1;33m>\u001b[0m \u001b[1;36m2\u001b[0m\u001b[1;33m:\u001b[0m\u001b[1;33m\u001b[0m\u001b[1;33m\u001b[0m\u001b[0m\n\u001b[0;32m    233\u001b[0m             raise ValueError(\"x and y can be no greater than 2-D, but have \"\n",
      "\u001b[1;31mValueError\u001b[0m: x and y must have same first dimension, but have shapes (21,) and (52,)"
     ]
    },
    {
     "data": {
      "image/png": "[encoded data removed]",
      "text/plain": [
       "<Figure size 432x288 with 1 Axes>"
      ]
     },
     "metadata": {
      "needs_background": "light"
     },
     "output_type": "display_data"
    }
   ],
   "source": [
    "plt.plot(years,co2_UAS, label = \"USA\")\n",
    "\n",
    "plt.plot(years,co2_DEU, label = \"DEU\" )\n",
    "plt.plot(years,co2_IND, label = \"India\")\n",
    "plt.xlabel('Years')\n",
    "plt.ylabel('CO in tonnes')\n",
    "plt.legend()\n",
    "plt.show()"
   ]
  },
  {
   "cell_type": "code",
   "execution_count": 15,
   "metadata": {},
   "outputs": [
    {
     "name": "stdout",
     "output_type": "stream",
     "text": [
      "             CountryName CountryCode       IndicatorName   IndicatorCode  \\\n",
      "9119               China         CHN  CO2 emissions (kt)  EN.ATM.CO2E.KT   \n",
      "9270       United States         USA  CO2 emissions (kt)  EN.ATM.CO2E.KT   \n",
      "9080          South Asia         SAS  CO2 emissions (kt)  EN.ATM.CO2E.KT   \n",
      "9163               India         IND  CO2 emissions (kt)  EN.ATM.CO2E.KT   \n",
      "9229  Russian Federation         RUS  CO2 emissions (kt)  EN.ATM.CO2E.KT   \n",
      "9171               Japan         JPN  CO2 emissions (kt)  EN.ATM.CO2E.KT   \n",
      "9149             Germany         DEU  CO2 emissions (kt)  EN.ATM.CO2E.KT   \n",
      "9177         Korea, Rep.         KOR  CO2 emissions (kt)  EN.ATM.CO2E.KT   \n",
      "9165  Iran, Islamic Rep.         IRN  CO2 emissions (kt)  EN.ATM.CO2E.KT   \n",
      "9164           Indonesia         IDN  CO2 emissions (kt)  EN.ATM.CO2E.KT   \n",
      "\n",
      "      Year        Value  \n",
      "9119  2011  9019518.215  \n",
      "9270  2011  5305569.614  \n",
      "9080  2011  2328350.649  \n",
      "9163  2011  2074344.893  \n",
      "9229  2011  1808073.022  \n",
      "9171  2011  1187656.959  \n",
      "9149  2011   729457.975  \n",
      "9177  2011   589426.246  \n",
      "9165  2011   586598.989  \n",
      "9164  2011   563984.600  \n",
      "        CountryName CountryCode       IndicatorName   IndicatorCode  Year  \\\n",
      "149   United States         USA  CO2 emissions (kt)  EN.ATM.CO2E.KT  1960   \n",
      "32            China         CHN  CO2 emissions (kt)  EN.ATM.CO2E.KT  1960   \n",
      "148  United Kingdom         GBR  CO2 emissions (kt)  EN.ATM.CO2E.KT  1960   \n",
      "53           France         FRA  CO2 emissions (kt)  EN.ATM.CO2E.KT  1960   \n",
      "78            Japan         JPN  CO2 emissions (kt)  EN.ATM.CO2E.KT  1960   \n",
      "114          Poland         POL  CO2 emissions (kt)  EN.ATM.CO2E.KT  1960   \n",
      "27           Canada         CAN  CO2 emissions (kt)  EN.ATM.CO2E.KT  1960   \n",
      "3        South Asia         SAS  CO2 emissions (kt)  EN.ATM.CO2E.KT  1960   \n",
      "70            India         IND  CO2 emissions (kt)  EN.ATM.CO2E.KT  1960   \n",
      "76            Italy         ITA  CO2 emissions (kt)  EN.ATM.CO2E.KT  1960   \n",
      "\n",
      "            Value  \n",
      "149  2.890696e+06  \n",
      "32   7.807263e+05  \n",
      "148  5.842998e+05  \n",
      "53   2.712187e+05  \n",
      "78   2.327812e+05  \n",
      "114  1.997672e+05  \n",
      "27   1.928952e+05  \n",
      "3    1.394877e+05  \n",
      "70   1.205820e+05  \n",
      "76   1.093573e+05  \n"
     ]
    }
   ],
   "source": [
    "co2_emission =indicator_df[indicator_df['IndicatorCode'].str.contains('EN.ATM.CO2E.KT')];\n",
    "co2_emission.set_index('CountryCode',inplace = True, drop = False);\n",
    "co2_emission = co2_emission.drop(['WLD','ARB','HIC', 'OEC', 'OED', 'NOC', 'CEB', 'EAP', 'EMU', 'ECS', 'ECA', 'EUU', 'LCN', 'FCS', 'LAC', 'LMY', 'MEA', 'MNA', 'MIC', 'NAC', 'SSF', 'UMC', 'SSA', 'LMC', 'EAS', 'HPC', 'LDC', 'LIC'], axis=0);\n",
    "co2_emission = co2_emission.reset_index(drop=True)\n",
    "co2_emission = co2_emission.sort_values('Value',ascending = False)\n",
    "co2_emission2014 = co2_emission[co2_emission['Year'] == 2011]\n",
    "print(co2_emission2014.head(10));\n",
    "co2_emission1960 = co2_emission[co2_emission['Year'] == 1960]\n",
    "print(co2_emission1960.head(10));"
   ]
  },
  {
   "cell_type": "code",
   "execution_count": 16,
   "metadata": {},
   "outputs": [
    {
     "data": {
      "text/plain": [
       "<matplotlib.legend.Legend at 0x2a013cac518>"
      ]
     },
     "execution_count": 16,
     "metadata": {},
     "output_type": "execute_result"
    },
    {
     "data": {
      "image/png": "[encoded data removed]",
      "text/plain": [
       "<Figure size 432x288 with 1 Axes>"
      ]
     },
     "metadata": {
      "needs_background": "light"
     },
     "output_type": "display_data"
    }
   ],
   "source": [
    "plt.bar(co2_emission2014['CountryName'].head(10),co2_emission2014['Value'].head(10),label = \"2011\" )\n",
    "plt.bar(co2_emission1960['CountryName'].head(10),co2_emission1960['Value'].head(10),label = \"1960\")\n",
    "plt.title(\"Top CO2 emittors in 2011 vs 1960 \")\n",
    "plt.xlabel(\"Countries\")\n",
    "plt.ylabel(\"CO2Emssion per kIlo Tons \")\n",
    "plt.xticks(rotation = 90)\n",
    "plt.legend()\n"
   ]
  },
  {
   "cell_type": "code",
   "execution_count": 17,
   "metadata": {},
   "outputs": [
    {
     "name": "stdout",
     "output_type": "stream",
     "text": [
      "           CountryName CountryCode                 IndicatorName  \\\n",
      "8338            Monaco         MCO  GDP per capita (current US$)   \n",
      "8321     Liechtenstein         LIE  GDP per capita (current US$)   \n",
      "8323        Luxembourg         LUX  GDP per capita (current US$)   \n",
      "8350            Norway         NOR  GDP per capita (current US$)   \n",
      "8362             Qatar         QAT  GDP per capita (current US$)   \n",
      "8388       Switzerland         CHE  GDP per capita (current US$)   \n",
      "8239           Bermuda         BMU  GDP per capita (current US$)   \n",
      "8324  Macao SAR, China         MAC  GDP per capita (current US$)   \n",
      "8228         Australia         AUS  GDP per capita (current US$)   \n",
      "8267           Denmark         DNK  GDP per capita (current US$)   \n",
      "\n",
      "       IndicatorCode  Year          Value  \n",
      "8338  NY.GDP.PCAP.CD  2011  163351.646686  \n",
      "8321  NY.GDP.PCAP.CD  2011  157092.969387  \n",
      "8323  NY.GDP.PCAP.CD  2011  113239.560972  \n",
      "8350  NY.GDP.PCAP.CD  2011  100575.117263  \n",
      "8362  NY.GDP.PCAP.CD  2011   89115.901491  \n",
      "8388  NY.GDP.PCAP.CD  2011   88002.609570  \n",
      "8239  NY.GDP.PCAP.CD  2011   85973.158416  \n",
      "8324  NY.GDP.PCAP.CD  2011   67012.963429  \n",
      "8228  NY.GDP.PCAP.CD  2011   62216.547129  \n",
      "8267  NY.GDP.PCAP.CD  2011   61304.061205  \n",
      "        CountryName CountryCode       IndicatorName   IndicatorCode  Year  \\\n",
      "149   United States         USA  CO2 emissions (kt)  EN.ATM.CO2E.KT  1960   \n",
      "32            China         CHN  CO2 emissions (kt)  EN.ATM.CO2E.KT  1960   \n",
      "148  United Kingdom         GBR  CO2 emissions (kt)  EN.ATM.CO2E.KT  1960   \n",
      "53           France         FRA  CO2 emissions (kt)  EN.ATM.CO2E.KT  1960   \n",
      "78            Japan         JPN  CO2 emissions (kt)  EN.ATM.CO2E.KT  1960   \n",
      "114          Poland         POL  CO2 emissions (kt)  EN.ATM.CO2E.KT  1960   \n",
      "27           Canada         CAN  CO2 emissions (kt)  EN.ATM.CO2E.KT  1960   \n",
      "3        South Asia         SAS  CO2 emissions (kt)  EN.ATM.CO2E.KT  1960   \n",
      "70            India         IND  CO2 emissions (kt)  EN.ATM.CO2E.KT  1960   \n",
      "76            Italy         ITA  CO2 emissions (kt)  EN.ATM.CO2E.KT  1960   \n",
      "\n",
      "            Value  \n",
      "149  2.890696e+06  \n",
      "32   7.807263e+05  \n",
      "148  5.842998e+05  \n",
      "53   2.712187e+05  \n",
      "78   2.327812e+05  \n",
      "114  1.997672e+05  \n",
      "27   1.928952e+05  \n",
      "3    1.394877e+05  \n",
      "70   1.205820e+05  \n",
      "76   1.093573e+05  \n"
     ]
    }
   ],
   "source": [
    "gdp_percapita =indicator_df[indicator_df['IndicatorCode'].str.contains('NY.GDP.PCAP.CD')];\n",
    "gdp_percapita.set_index('CountryCode',inplace = True, drop = False);\n",
    "gdp_percapita = gdp_percapita.drop(['WLD','ARB','HIC', 'OEC', 'OED', 'NOC', 'CEB', 'EAP', 'EMU', 'ECS', 'ECA', 'EUU', 'LCN', 'FCS', 'LAC', 'LMY', 'MEA', 'MNA', 'MIC', 'NAC', 'SSF', 'UMC', 'SSA', 'LMC', 'EAS', 'HPC', 'LDC', 'LIC'], axis=0);\n",
    "gdp_percapita = gdp_percapita.reset_index(drop=True)\n",
    "gdp_percapita = gdp_percapita.sort_values('Value',ascending = False)\n",
    "gdp_percapita2011 = gdp_percapita[gdp_percapita['Year'] == 2011]\n",
    "print(gdp_percapita2011.head(10));\n",
    "gdp_percapita1960 = co2_emission[co2_emission['Year'] == 1960]\n",
    "print(gdp_percapita1960.head(10));"
   ]
  },
  {
   "cell_type": "code",
   "execution_count": 18,
   "metadata": {},
   "outputs": [
    {
     "data": {
      "text/plain": [
       "<matplotlib.legend.Legend at 0x2a013b94400>"
      ]
     },
     "execution_count": 18,
     "metadata": {},
     "output_type": "execute_result"
    },
    {
     "data": {
      "image/png": "[encoded data removed]",
      "text/plain": [
       "<Figure size 432x288 with 1 Axes>"
      ]
     },
     "metadata": {
      "needs_background": "light"
     },
     "output_type": "display_data"
    }
   ],
   "source": [
    "plt.bar(gdp_percapita2011['CountryName'].head(10),co2_emission2014['Value'].head(10),label = \"2011\" )\n",
    "plt.bar(gdp_percapita1960['CountryName'].head(10),co2_emission1960['Value'].head(10),label = \"1960\")\n",
    "plt.title(\"Top GDP per capita  2011 vs 1960 \")\n",
    "plt.xlabel(\"Countries\")\n",
    "plt.ylabel(\"GDP per capita \")\n",
    "plt.xticks(rotation = 90)\n",
    "plt.legend()"
   ]
  },
  {
   "cell_type": "code",
   "execution_count": null,
   "metadata": {},
   "outputs": [],
   "source": [
    "\n",
    "\n"
   ]
  }
 ],
 "metadata": {
  "kernelspec": {
   "display_name": "Python 3",
   "language": "python",
   "name": "python3"
  },
  "language_info": {
   "codemirror_mode": {
    "name": "ipython",
    "version": 3
   },
   "file_extension": ".py",
   "mimetype": "text/x-python",
   "name": "python",
   "nbconvert_exporter": "python",
   "pygments_lexer": "ipython3",
   "version": "3.7.3"
  }
 },
 "nbformat": 4,
 "nbformat_minor": 2
}
